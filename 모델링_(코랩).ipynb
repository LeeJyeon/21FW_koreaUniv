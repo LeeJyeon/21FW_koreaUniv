{
  "nbformat": 4,
  "nbformat_minor": 0,
  "metadata": {
    "colab": {
      "name": "모델링 (코랩).ipynb",
      "provenance": [],
      "collapsed_sections": []
    },
    "kernelspec": {
      "name": "python3",
      "display_name": "Python 3"
    },
    "language_info": {
      "name": "python"
    },
    "accelerator": "GPU"
  },
  "cells": [
    {
      "cell_type": "code",
      "metadata": {
        "id": "A1Z__MRNtP40"
      },
      "source": [
        "import pandas as pd\n",
        "import numpy as np\n",
        "import sklearn as sk\n",
        "from sklearn.model_selection import train_test_split\n",
        "from sklearn.linear_model import LinearRegression\n",
        "import matplotlib.pyplot as plt\n",
        "from sklearn.metrics import mean_squared_error  , r2_score\n",
        "from sklearn.svm import SVR\n",
        "\n",
        "data = pd.read_csv('/content/(final)movie_data_set.csv')\n",
        "data = data.replace(',','', regex=True)\n",
        "data =data.astype({'movie_code':'str','screen_number':'float'})\n",
        "\n",
        "sample = data[data['movie_code'].str.contains('177967|163788|137327|161967|170290|164125')]\n",
        "\n",
        "\n",
        "col_x = data.columns[3:169].to_list()\n",
        "col_y = data.columns[169:].to_list()\n",
        "\n",
        "x = data[col_x]\n",
        "y = data[col_y]\n",
        "\n",
        "sample_x = sample[col_x]\n",
        "sample_y = sample[col_y]"
      ],
      "execution_count": 2,
      "outputs": []
    },
    {
      "cell_type": "code",
      "metadata": {
        "id": "AahObDPLtVk3"
      },
      "source": [
        "#train / test set 분리\n",
        "x_train, x_test, y_train, y_test = train_test_split(x, y, train_size=0.8, test_size=0.2)"
      ],
      "execution_count": 3,
      "outputs": []
    },
    {
      "cell_type": "code",
      "metadata": {
        "id": "emRlLwmOtilD"
      },
      "source": [
        "#sMAPE\n",
        "def smape(A, F):\n",
        "    return 100 / len(A) * np.sum(np.abs(F - A) / (np.abs(A) + np.abs(F)))"
      ],
      "execution_count": 4,
      "outputs": []
    },
    {
      "cell_type": "code",
      "metadata": {
        "id": "ibRqLEGjtkFu"
      },
      "source": [
        "# simple regression\n",
        "result_regression = {}\n",
        "for i in range(9):\n",
        "    mlr = LinearRegression()\n",
        "    mlr.fit(x_train, y_train[[y_train.columns[i]]])\n",
        "    y_predict = mlr.predict(x_test)\n",
        "    \n",
        "    result_regression[y_test.columns[i]] = float(smape( y_test[[y_test.columns[i]]], y_predict ))"
      ],
      "execution_count": 5,
      "outputs": []
    },
    {
      "cell_type": "code",
      "metadata": {
        "colab": {
          "base_uri": "https://localhost:8080/"
        },
        "id": "tkw3QWRKY8uT",
        "outputId": "e2c41d52-88d7-40f3-b246-baec9192bf38"
      },
      "source": [
        "result_regression"
      ],
      "execution_count": 6,
      "outputs": [
        {
          "output_type": "execute_result",
          "data": {
            "text/plain": [
              "{'cgv7_days': 78.23402933216789,\n",
              " 'cgv_15_days': 73.91405790342606,\n",
              " 'cgv_3_days': 78.83670630285553,\n",
              " 'jcon_15_days': 90.9565604557603,\n",
              " 'jcon_3_days': 72.81673744370492,\n",
              " 'jcon_7_days': 70.81318515494029,\n",
              " 'lotte_15_days': 77.34062213634722,\n",
              " 'lotte_3_days': 82.6893276439129,\n",
              " 'lotte_7_days': 81.87415894917535}"
            ]
          },
          "metadata": {},
          "execution_count": 6
        }
      ]
    },
    {
      "cell_type": "code",
      "metadata": {
        "colab": {
          "base_uri": "https://localhost:8080/"
        },
        "id": "f12pllF1tlfp",
        "outputId": "efa4bebc-2bac-4e8b-9850-753a9c82a6ac"
      },
      "source": [
        "#SVR\n",
        "# Create Support Vector Regression model\n",
        "# kernel : 선형 커널\n",
        "# C : 학습 오류에 대한 패널티, C 값이 클 수록 모델이 학습 데이터에 좀 더 최적화 됨, 너무 크면 오버피팅 발생\n",
        "# Epsilon : 임계값, 예측한 값이 GT 범위 안에 있으면 패널티 부여 X\n",
        "\n",
        "result_svr = {}\n",
        "\n",
        "Cs = np.arange(1,2,0.5)\n",
        "epsilons = np.arange(0.1,0.3,0.1)\n",
        "\n",
        "for c in Cs:\n",
        "    for epsilon in epsilons:\n",
        "\n",
        "        print(c,epsilon)\n",
        "        \n",
        "        for i in range(9):\n",
        "\n",
        "            sv_regressor = SVR(kernel='linear', C=c, epsilon=epsilon)\n",
        "            sv_regressor.fit(x_train, y_train[[y_train.columns[i]]].values.ravel())\n",
        "            y_predict = sv_regressor.predict(x_test)\n",
        "\n",
        "            smape_value = float(smape( np.array(y_test[[y_test.columns[i]]].iloc[:,0]) , y_predict ))\n",
        "\n",
        "            result_svr[y_test.columns[i]+':'+str(c)+':'+str(epsilon)] = [smape_value,sv_regressor.predict(sample_x)]\n",
        "\n",
        "            print(result_svr[y_test.columns[i]+':'+str(c)+':'+str(epsilon)] )\n",
        "\n"
      ],
      "execution_count": 7,
      "outputs": [
        {
          "output_type": "stream",
          "name": "stdout",
          "text": [
            "1.0 0.1\n",
            "[81.43675863446192, array([-0.44863361,  0.12245213, -0.84277063, -0.37561134,  1.78768468,\n",
            "       -1.03615827])]\n",
            "[77.5011442701018, array([-1.07790237, -0.29373627, -2.08952614, -0.2547144 ,  0.14289229,\n",
            "       -1.03037501])]\n",
            "[70.55108995583065, array([-2.59375043, -2.45709612, -3.81269391, -0.96170489, -2.00889073,\n",
            "       -2.16088518])]\n",
            "[72.05647678022473, array([ 0.52825715, -1.95132572, -3.66424484,  0.25591993, -0.48322782,\n",
            "       -1.77340638])]\n",
            "[73.92147024199328, array([-0.03884487, -0.01902621, -3.3906757 ,  0.79455995, -0.20996098,\n",
            "        0.36512502])]\n",
            "[77.78956546462055, array([ 1.80115815,  0.54241879, -1.70434606,  2.60221505,  0.15644866,\n",
            "        0.49518055])]\n",
            "[75.27085847779097, array([-1.98131762, -0.8726806 , -0.54088057,  1.70385228,  0.75961048,\n",
            "       -0.58504324])]\n",
            "[76.88189584198192, array([-1.45614864, -1.78581658, -1.93549579,  0.78353327, -0.66276996,\n",
            "        0.6122151 ])]\n",
            "[78.36514517886836, array([ 0.57838612, -0.50207   , -4.51127307,  1.25177615,  0.29278564,\n",
            "        1.43376515])]\n",
            "1.0 0.2\n",
            "[79.92876833820068, array([-0.37392468, -0.06374837, -1.04791209, -0.27873826,  1.71184818,\n",
            "       -0.94675297])]\n",
            "[77.69150200499928, array([-1.03888917, -0.19897666, -2.23843629, -0.30541614, -0.0312154 ,\n",
            "       -1.04456751])]\n",
            "[71.1123176944077, array([-2.63907109, -2.43189319, -3.81666626, -1.04348855, -1.77965096,\n",
            "       -2.0086617 ])]\n",
            "[71.35344591615213, array([ 0.51954006, -1.87519633, -3.67843091,  0.13920369, -0.5082662 ,\n",
            "       -1.86489894])]\n",
            "[73.95094024651479, array([-0.16783179, -0.16102204, -3.40528086,  0.83510116, -0.07139463,\n",
            "        0.36919688])]\n",
            "[77.77926072581312, array([ 1.75449564,  0.76433688, -1.76805513,  2.55144771,  0.1211771 ,\n",
            "        0.51792113])]\n",
            "[76.07292372827656, array([-1.95996288, -0.97244995, -0.38425193,  1.56979563,  0.57165976,\n",
            "       -0.61790114])]\n",
            "[76.75546876652373, array([-1.40149411, -1.61770477, -1.67707618,  0.84822676, -0.59862428,\n",
            "        0.62196712])]\n",
            "[78.39546274217491, array([ 0.65467271, -0.35753739, -4.51390993,  1.16774104,  0.241993  ,\n",
            "        1.39774834])]\n",
            "1.5 0.1\n",
            "[80.64925327300013, array([-0.55500462, -0.12569418, -1.0294673 , -0.34471134,  2.04591447,\n",
            "       -1.04592155])]\n",
            "[77.3109378276903, array([-1.0983145 , -0.30990174, -2.23258288, -0.30099721,  0.26792163,\n",
            "       -1.02818525])]\n",
            "[68.92443179664033, array([-2.82406447, -2.57807355, -3.71850556, -0.48254609, -1.85049751,\n",
            "       -2.35409904])]\n",
            "[71.07417243749632, array([ 5.29757238e-01, -2.12861813e+00, -4.26588061e+00, -2.30350766e-03,\n",
            "       -8.31101526e-01, -1.94292077e+00])]\n",
            "[72.92547515668599, array([-0.25564911, -0.45264772, -3.80536835,  0.64345973, -0.29556444,\n",
            "        0.36844874])]\n",
            "[76.60943499612455, array([ 1.36220618,  0.0452007 , -1.96656824,  3.33817871,  0.3024786 ,\n",
            "        1.0101207 ])]\n",
            "[74.53332422120984, array([-2.10114415, -0.91711734, -0.37749676,  1.93049965,  0.78743898,\n",
            "       -0.90780113])]\n",
            "[76.01907484788265, array([-1.70266554, -2.03149939, -1.78069103,  1.03604412, -0.34807058,\n",
            "        0.64201028])]\n",
            "[76.81352811362905, array([ 0.6978958 , -0.35804936, -4.65886818,  0.66061658, -0.66788653,\n",
            "        0.97991849])]\n",
            "1.5 0.2\n",
            "[79.86937307770906, array([-0.50866075, -0.2262077 , -1.28176777, -0.23242522,  2.11544435,\n",
            "       -0.92105217])]\n",
            "[77.36213931470401, array([-1.24147251, -0.19215639, -2.33572976, -0.29129837,  0.06227344,\n",
            "       -1.00524981])]\n",
            "[69.79090304350197, array([-2.84476671, -2.53375697, -3.74241106, -0.47569666, -1.62535302,\n",
            "       -2.19540193])]\n",
            "[70.3026718621491, array([ 0.62292759, -1.74775108, -4.264356  ,  0.12164315, -0.62083237,\n",
            "       -2.04132551])]\n",
            "[74.02622335304689, array([-0.40623273, -0.64949956, -3.82925802,  0.71814966, -0.04090259,\n",
            "        0.48826789])]\n",
            "[76.59662506966069, array([ 1.22216408,  0.08322085, -1.99934003,  3.18897405,  0.12991585,\n",
            "        0.97652688])]\n",
            "[75.78509265926675, array([-2.10048972, -0.99872331, -0.16491763,  1.85129744,  0.63005341,\n",
            "       -0.85022486])]\n",
            "[75.55094267575664, array([-1.75790845, -1.77980835, -1.43096583,  1.09975432, -0.28979312,\n",
            "        0.63997807])]\n",
            "[77.07736282230846, array([ 0.78234199, -0.45422514, -4.73544644,  0.69734282, -0.63710346,\n",
            "        0.77679997])]\n"
          ]
        }
      ]
    },
    {
      "cell_type": "code",
      "metadata": {
        "id": "BHHt0WvJA7ik"
      },
      "source": [
        "import pandas as pd\n",
        "import numpy as np\n",
        "import random\n",
        "import tensorflow as tf\n",
        "\n",
        "\n",
        "# MLP 모델 아키텍처 정의\n",
        "\n",
        "from tensorflow.keras import Sequential\n",
        "from tensorflow.keras.layers import Dense\n",
        "\n",
        "def build_model(num_input=1):\n",
        "    model = Sequential()\n",
        "    model.add(Dense(166, activation='relu', input_dim=num_input))\n",
        "    model.add(Dense(84, activation='relu'))\n",
        "    model.add(Dense(32, activation='relu'))\n",
        "    model.add(Dense(1, activation='linear'))\n",
        "    \n",
        "    model.compile(optimizer='adam', loss='mse', metrics=['mae'])\n",
        "    \n",
        "    return model\n",
        "\n",
        "model = build_model(num_input=166)\n",
        "\n",
        "result_nn = {}\n",
        "\n",
        "for i in range(9):\n",
        "\n",
        "  # 미니 배치 학습\n",
        "  model.fit(x_train, y_train[[y_train.columns[i]]], epochs=200, batch_size=64, verbose=5)\n",
        "\n",
        "  result_nn[y_test.columns[i]] = smape( np.array(y_test[[y_test.columns[i]]].iloc[:,0]) , model.predict(x_test))\n"
      ],
      "execution_count": null,
      "outputs": []
    },
    {
      "cell_type": "code",
      "metadata": {
        "colab": {
          "base_uri": "https://localhost:8080/"
        },
        "id": "3b1xuaaEHJAv",
        "outputId": "b275cc49-3137-4748-8abd-a6354e7d0ad1"
      },
      "source": [
        "result_regression\n",
        "result_pd = pd.DataFrame.from_dict(result_regression, orient='index')\n",
        "result_pd.columns = ['result_regression']\n",
        "print(result_pd)"
      ],
      "execution_count": 57,
      "outputs": [
        {
          "output_type": "stream",
          "name": "stdout",
          "text": [
            "               result_regression\n",
            "lotte_3_days           82.689328\n",
            "lotte_7_days           81.874159\n",
            "lotte_15_days          77.340622\n",
            "cgv_3_days             78.836706\n",
            "cgv7_days              78.234029\n",
            "cgv_15_days            73.914058\n",
            "jcon_3_days            72.816737\n",
            "jcon_7_days            70.813185\n",
            "jcon_15_days           90.956560\n"
          ]
        }
      ]
    },
    {
      "cell_type": "code",
      "metadata": {
        "colab": {
          "base_uri": "https://localhost:8080/"
        },
        "id": "VInBB4sJsncP",
        "outputId": "17eb374c-263a-4949-9aca-97e28a349dcf"
      },
      "source": [
        "lst = list(result_svr.keys())\n",
        "tmp_lst =[]\n",
        "\n",
        "for i in range(len(lst)):\n",
        "  tmp_lst.append(result_svr[lst[i]][0])\n",
        "  \"\"\"\n",
        "  print(lst[i].split(':')[0])\n",
        "  print(lst[i].split(':')[1]+':'+lst[i].split(':')[2])\n",
        "  print(result_svr[lst[i]][0])\n",
        "  \"\"\"  \n",
        "tmp_lst = np.array(tmp_lst)\n",
        "tmp_pd = pd.DataFrame(tmp_lst.reshape(9,4))\n",
        "tmp_pd.columns = ['c:1,e:0.1','c:1,e:0.2','c:1.5,e:0.1','c:1.5,e:0.2']\n",
        "tmp_pd.index = result_pd.index\n",
        "\n",
        "result_pd = pd.merge(result_pd, tmp_pd, left_index=True,right_index = True , how='left')"
      ],
      "execution_count": 67,
      "outputs": [
        {
          "output_type": "stream",
          "name": "stdout",
          "text": [
            "               result_regression  c:1,e:0.1  ...  c:1.5,e:0.1  c:1.5,e:0.2\n",
            "lotte_3_days           82.689328  81.436759  ...    70.551090    72.056477\n",
            "lotte_7_days           81.874159  73.921470  ...    75.270858    76.881896\n",
            "lotte_15_days          77.340622  78.365145  ...    77.691502    71.112318\n",
            "cgv_3_days             78.836706  71.353446  ...    77.779261    76.072924\n",
            "cgv7_days              78.234029  76.755469  ...    80.649253    77.310938\n",
            "cgv_15_days            73.914058  68.924432  ...    72.925475    76.609435\n",
            "jcon_3_days            72.816737  74.533324  ...    76.813528    79.869373\n",
            "jcon_7_days            70.813185  77.362139  ...    70.302672    74.026223\n",
            "jcon_15_days           90.956560  76.596625  ...    75.550943    77.077363\n",
            "\n",
            "[9 rows x 5 columns]\n"
          ]
        }
      ]
    },
    {
      "cell_type": "code",
      "metadata": {
        "id": "abOsJDjzsvWg"
      },
      "source": [
        "tmp_pd = pd.DataFrame.from_dict(result_nn, orient='index')\n",
        "tmp_pd.columns = ['nn']\n",
        "\n",
        "result_pd = pd.merge(result_pd, tmp_pd, left_index=True,right_index = True , how='left')"
      ],
      "execution_count": 69,
      "outputs": []
    },
    {
      "cell_type": "code",
      "metadata": {
        "id": "-AybfRUxwY0T"
      },
      "source": [
        "result_pd.to_csv('final_model_result.csv')"
      ],
      "execution_count": 71,
      "outputs": []
    },
    {
      "cell_type": "code",
      "metadata": {
        "id": "G80c8LK4zX4D"
      },
      "source": [
        ""
      ],
      "execution_count": null,
      "outputs": []
    }
  ]
}